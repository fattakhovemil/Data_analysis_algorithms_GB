{
 "cells": [
  {
   "cell_type": "markdown",
   "metadata": {},
   "source": [
    "Задача 1: Подберите скорость обучения (alpha) и количество итераций."
   ]
  },
  {
   "cell_type": "code",
   "execution_count": 1,
   "metadata": {},
   "outputs": [],
   "source": [
    "import numpy as np\n",
    "import matplotlib.pyplot as plt"
   ]
  },
  {
   "cell_type": "code",
   "execution_count": 2,
   "metadata": {},
   "outputs": [],
   "source": [
    "# сгенерируем 2 признака и 100 объектов\n",
    "n_features = 2\n",
    "n_objects = 100\n",
    "\n",
    "# сгенерируем вектор истинных весов\n",
    "w_true = np.random.normal(size = (1, n_features))\n",
    "\n",
    "# сгенерируем матрицу X, вычислим Y с добавлением случайного шума\n",
    "X = np.vstack((np.ones(n_objects), np.random.uniform(-10, 10, size = (1, n_objects))))\n",
    "Y = (w_true.dot(X)).flatten() + np.random.normal(0, 0.5, size = (n_objects, ))"
   ]
  },
  {
   "cell_type": "code",
   "execution_count": 3,
   "metadata": {},
   "outputs": [],
   "source": [
    "# реализуем функцию для определения среднеквадратичной ошибки\n",
    "def mserror(X, w, y_pred):\n",
    "    y = w.dot(X)\n",
    "    return (sum((y - y_pred)**2))/X.shape[1]"
   ]
  },
  {
   "cell_type": "markdown",
   "metadata": {},
   "source": [
    "Реализуем функцию, вычисляющую вектор весов по нормальному уравнению линейной регрессии, и применим ее."
   ]
  },
  {
   "cell_type": "code",
   "execution_count": 4,
   "metadata": {},
   "outputs": [
    {
     "name": "stdout",
     "output_type": "stream",
     "text": [
      "В случае использования нормального уравнения функционал ошибки составляет 0.21444538646050582\n",
      "Максимально приближенные веса [-0.56842468 -0.36370756]\n"
     ]
    }
   ],
   "source": [
    "def normal_equation(X, y):\n",
    "    return np.linalg.inv(np.dot(X, X.T)) @ X @ y\n",
    "\n",
    "normal_eq_w = normal_equation(X, Y)\n",
    "normal_eq_w.shape\n",
    "print(f'В случае использования нормального уравнения функционал ошибки составляет {mserror(X, normal_eq_w, Y)}')\n",
    "print(f'Максимально приближенные веса {normal_eq_w}')"
   ]
  },
  {
   "cell_type": "code",
   "execution_count": 5,
   "metadata": {},
   "outputs": [
    {
     "name": "stdout",
     "output_type": "stream",
     "text": [
      "0 [ 0.9589608  -0.05795779] 27.52840793611699\n",
      "10 [ 0.67714644 -0.38670801] 1.8130204986465759\n",
      "20 [ 0.45144821 -0.382555  ] 1.2861825546657968\n",
      "30 [ 0.26664686 -0.37913984] 0.93297315575304\n",
      "40 [ 0.11533158 -0.3763435 ] 0.6961699832747237\n",
      "50 [-0.00856532 -0.37405387] 0.5374093651586527\n",
      "60 [-0.11001204 -0.37217911] 0.4309710366480622\n",
      "70 [-0.19307659 -0.37064406] 0.35961128817539284\n",
      "80 [-0.2610898  -0.36938716] 0.31176937095122303\n",
      "90 [-0.316779   -0.36835802] 0.2796945795923253\n",
      "100 [-0.36237729 -0.36751535] 0.25819058685105856\n",
      "110 [-0.39971316 -0.36682538] 0.24377360441016827\n",
      "120 [-0.43028375 -0.36626043] 0.23410798625256593\n",
      "130 [-0.45531494 -0.36579785] 0.22762783863834643\n",
      "140 [-0.47581046 -0.36541909] 0.22328333501557077\n",
      "150 [-0.49259219 -0.36510896] 0.22037063721114186\n",
      "160 [-0.50633307 -0.36485502] 0.21841786901561114\n",
      "170 [-0.51758409 -0.3646471 ] 0.21710866913236934\n",
      "180 [-0.52679643 -0.36447686] 0.2162309385659853\n",
      "190 [-0.53433948 -0.36433746] 0.215642479189364\n",
      "200 [-0.54051573 -0.36422332] 0.21524795671151542\n",
      "210 [-0.54557284 -0.36412986] 0.2149834558951268\n",
      "220 [-0.5497136  -0.36405334] 0.21480612586756595\n",
      "230 [-0.55310406 -0.36399069] 0.21468723799756215\n",
      "240 [-0.55588016 -0.36393938] 0.21460753166790958\n",
      "250 [-0.55815323 -0.36389738] 0.2145540939287485\n",
      "260 [-0.56001442 -0.36386298] 0.21451826751472247\n",
      "270 [-0.56153836 -0.36383482] 0.21449424831102615\n",
      "280 [-0.56278616 -0.36381176] 0.21447814504861826\n",
      "290 [-0.56380787 -0.36379288] 0.2144673488930311\n",
      "300 [-0.56464443 -0.36377742] 0.21446011079602265\n",
      "310 [-0.56532941 -0.36376476] 0.21445525813825203\n",
      "320 [-0.56589028 -0.36375439] 0.21445200475723067\n",
      "330 [-0.56634951 -0.36374591] 0.214449823583826\n",
      "340 [-0.56672553 -0.36373896] 0.21444836125359498\n",
      "350 [-0.56703342 -0.36373327] 0.21444738085941795\n",
      "360 [-0.56728551 -0.36372861] 0.21444672357098785\n",
      "370 [-0.56749193 -0.36372479] 0.2144462829032535\n",
      "380 [-0.56766094 -0.36372167] 0.21444598746514287\n",
      "390 [-0.56779933 -0.36371911] 0.2144457893937379\n",
      "400 [-0.56791265 -0.36371702] 0.2144456566001679\n",
      "410 [-0.56800543 -0.3637153 ] 0.21444556757100056\n",
      "420 [-0.56808139 -0.3637139 ] 0.21444550788292502\n",
      "430 [-0.5681436  -0.36371275] 0.21444546786608037\n",
      "440 [-0.56819453 -0.36371181] 0.21444544103747457\n",
      "450 [-0.56823623 -0.36371104] 0.21444542305069672\n",
      "460 [-0.56827038 -0.36371041] 0.21444541099177056\n",
      "470 [-0.56829834 -0.36370989] 0.21444540290707068\n",
      "480 [-0.56832123 -0.36370947] 0.21444539748682268\n",
      "490 [-0.56833997 -0.36370912] 0.2144453938529106\n"
     ]
    }
   ],
   "source": [
    "n = X.shape[1]\n",
    "alpha = 1e-2\n",
    "w = np.array([1, 0.5])\n",
    "\n",
    "for i in range(500):\n",
    "    y_pred = np.dot(w, X)\n",
    "    err = mserror(X, w, Y)\n",
    "    for ii in range(w.shape[0]):\n",
    "        w[ii] -= alpha * (1/n * 2 * np.sum(X[ii] * (y_pred - Y)))\n",
    "    if i % 10 == 0:\n",
    "        print(i, w, err)"
   ]
  },
  {
   "cell_type": "code",
   "execution_count": 6,
   "metadata": {},
   "outputs": [],
   "source": [
    "# функция для определения градиентного спуска\n",
    "def gradient_descent(alpha, iterations, w, X=X, Y=Y):\n",
    "    n = X.shape[1]\n",
    "    err = np.inf\n",
    "    for i in range(iterations):\n",
    "        y_pred = np.dot(w, X)\n",
    "        err_new = mserror(X, w, Y)\n",
    "        if err_new < err:\n",
    "            err = err_new\n",
    "            for j in range(w.shape[0]):\n",
    "                w[j] -= alpha * (1/n * 2 * np.sum(X[j] * (y_pred - Y))) \n",
    "        else:\n",
    "            return i-1, w, err\n",
    "    return i, w, err"
   ]
  },
  {
   "cell_type": "code",
   "execution_count": 7,
   "metadata": {},
   "outputs": [
    {
     "name": "stdout",
     "output_type": "stream",
     "text": [
      "Альфа = 0.1, количество итераций = 1000.0. Ошибка: 27.52840793611699. Веса: [ 0.58960801 -5.07957788]\n",
      "Альфа = 0.1, количество итераций = 10000.0. Ошибка: 27.52840793611699. Веса: [ 0.58960801 -5.07957788]\n",
      "Альфа = 0.1, количество итераций = 100000.0. Ошибка: 27.52840793611699. Веса: [ 0.58960801 -5.07957788]\n",
      "Альфа = 0.1, количество итераций = 1000000.0. Ошибка: 27.52840793611699. Веса: [ 0.58960801 -5.07957788]\n",
      "Альфа = 0.01, количество итераций = 1000.0. Ошибка: 0.2144453864605099. Веса: [-0.56842461 -0.36370756]\n",
      "Альфа = 0.01, количество итераций = 10000.0. Ошибка: 0.2144453864605099. Веса: [-0.56842461 -0.36370756]\n",
      "Альфа = 0.01, количество итераций = 100000.0. Ошибка: 0.2144453864605099. Веса: [-0.56842461 -0.36370756]\n",
      "Альфа = 0.01, количество итераций = 1000000.0. Ошибка: 0.2144453864605099. Веса: [-0.56842461 -0.36370756]\n",
      "Альфа = 0.001, количество итераций = 1000.0. Ошибка: 0.25996407418110906. Веса: [-0.35442232 -0.36766236]\n",
      "Альфа = 0.001, количество итераций = 10000.0. Ошибка: 0.21444538646056274. Веса: [-0.56842444 -0.36370756]\n",
      "Альфа = 0.001, количество итераций = 100000.0. Ошибка: 0.21444538646056274. Веса: [-0.56842444 -0.36370756]\n",
      "Альфа = 0.001, количество итераций = 1000000.0. Ошибка: 0.21444538646056274. Веса: [-0.56842444 -0.36370756]\n",
      "Альфа = 0.0001, количество итераций = 1000.0. Ошибка: 1.8200410896382686. Веса: [ 0.7048286  -0.38556255]\n",
      "Альфа = 0.0001, количество итераций = 10000.0. Ошибка: 0.25996245292333525. Веса: [-0.35404417 -0.36766935]\n",
      "Альфа = 0.0001, количество итераций = 100000.0. Ошибка: 0.2144453864613114. Веса: [-0.56842377 -0.36370757]\n",
      "Альфа = 0.0001, количество итераций = 1000000.0. Ошибка: 0.2144453864613114. Веса: [-0.56842377 -0.36370757]\n",
      "Минимальная ошибка 0.2144453864605099 достигается при коэффициентах (0.01, 1000.0)\n"
     ]
    }
   ],
   "source": [
    "# подбор оптимальных параметров\n",
    "min_err = np.inf\n",
    "min_coef = ()\n",
    "\n",
    "for alpha in [1e-1, 1e-2, 1e-3, 1e-4]:\n",
    "    for iters in [1e3, 1e4, 1e5, 1e6]:\n",
    "        w = np.array([1, 0.5])\n",
    "        num, wi, err = gradient_descent(alpha, int(iters), w)\n",
    "        print(f'Альфа = {alpha}, количество итераций = {iters}. Ошибка: {err}. Веса: {wi}')\n",
    "        if err < min_err:\n",
    "            min_err = err\n",
    "            min_coef = (alpha, iters)\n",
    "\n",
    "print(f'Минимальная ошибка {min_err} достигается при коэффициентах {min_coef}')"
   ]
  },
  {
   "cell_type": "code",
   "execution_count": 8,
   "metadata": {},
   "outputs": [
    {
     "name": "stdout",
     "output_type": "stream",
     "text": [
      "Итераций = 698, Подобранные веса = [-0.56842419 -0.36370757], Ошибка = 0.2144\n"
     ]
    }
   ],
   "source": [
    "w_list = [w.copy()]\n",
    "errors = []\n",
    "alpha = 0.01\n",
    "max_iter = 1e4\n",
    "min_weight_dist = 1e-8\n",
    "weight_dist = np.inf\n",
    "n = X.shape[1]\n",
    "w = np.zeros(n_features)\n",
    "i = 0\n",
    "while weight_dist > min_weight_dist and i < max_iter:\n",
    "    y_pred = np.dot(w, X)\n",
    "    # new_w = w - alpha * (1/n * 2 * np.sum(X * (y_pred - Y), axis=1))\n",
    "    new_w = w - alpha * 1/n * 2 * np.dot(X, (y_pred - Y))\n",
    "    weight_dist = np.linalg.norm(new_w - w, ord=2)\n",
    "    \n",
    "    w_list.append(new_w.copy())\n",
    "    errors.append(mserror(X, new_w, Y))\n",
    "    \n",
    "    i += 1\n",
    "    w = new_w\n",
    "\n",
    "w_list = np.array(w_list)\n",
    "print(f'Итераций = {i}, Подобранные веса = {w}, Ошибка = {round(errors[-1], 4)}')"
   ]
  },
  {
   "cell_type": "code",
   "execution_count": 9,
   "metadata": {},
   "outputs": [
    {
     "data": {
      "image/png": "[encoded data removed]",
      "text/plain": [
       "<Figure size 936x432 with 1 Axes>"
      ]
     },
     "metadata": {
      "needs_background": "light"
     },
     "output_type": "display_data"
    }
   ],
   "source": [
    "# график изменения весов w\n",
    "plt.figure(figsize=(13, 6))\n",
    "plt.title('Gradient descent')\n",
    "plt.xlabel(r'$w_1$')\n",
    "plt.ylabel(r'$w_2$')\n",
    "\n",
    "plt.scatter(w_list[:, 0], w_list[:, 1])\n",
    "plt.scatter(w_true[0, 0], w_true[0, 1], c='r')\n",
    "#plt.plot(w_list[:, 0], w_list[:, 1])\n",
    "\n",
    "plt.show()"
   ]
  },
  {
   "cell_type": "code",
   "execution_count": 10,
   "metadata": {},
   "outputs": [
    {
     "data": {
      "text/plain": [
       "Text(0, 0.5, 'MSE')"
      ]
     },
     "execution_count": 10,
     "metadata": {},
     "output_type": "execute_result"
    },
    {
     "data": {
      "image/png": "[encoded data removed]",
      "text/plain": [
       "<Figure size 432x288 with 1 Axes>"
      ]
     },
     "metadata": {
      "needs_background": "light"
     },
     "output_type": "display_data"
    }
   ],
   "source": [
    "# построим график изменения функционала ошибки от количества итераций\n",
    "plt.plot(range(len(errors)), errors)\n",
    "plt.title('MSE')\n",
    "plt.xlabel('Iteration number')\n",
    "plt.ylabel('MSE')"
   ]
  },
  {
   "cell_type": "markdown",
   "metadata": {},
   "source": [
    "Задача 2 (опция): В этом коде мы избавляемся от итераций по весам, но тут есть ошибка, исправьте ее:"
   ]
  },
  {
   "cell_type": "markdown",
   "metadata": {},
   "source": [
    "Для того, чтобы исключить итерацию по весам, вводится матричное умножение. Ошибка заключалась в суммировании всех элементов матрицы и последующей выдаче скаляра, который затем расширился до вектора с одинаковыми элементами.\n",
    "\n",
    "Есть два способа исправить ошибку:\n",
    "1. Дополнить параметром axis=1\n",
    "2. Вместо np.sum использовать np.dot"
   ]
  },
  {
   "cell_type": "code",
   "execution_count": 11,
   "metadata": {},
   "outputs": [
    {
     "name": "stdout",
     "output_type": "stream",
     "text": [
      "0 [ 0.9589608  -0.05795779] 27.52840793611699\n",
      "100 [-0.36237729 -0.36751535] 0.25819058685105856\n",
      "200 [-0.54051573 -0.36422332] 0.21524795671151542\n",
      "300 [-0.56464443 -0.36377742] 0.21446011079602265\n",
      "400 [-0.56791265 -0.36371702] 0.2144456566001679\n",
      "500 [-0.56835532 -0.36370884] 0.21444539141661653\n",
      "600 [-0.56841528 -0.36370773] 0.214445386551433\n",
      "700 [-0.5684234  -0.36370758] 0.21444538646217395\n",
      "800 [-0.5684245  -0.36370756] 0.21444538646053635\n",
      "900 [-0.56842465 -0.36370756] 0.21444538646050632\n"
     ]
    }
   ],
   "source": [
    "n = X.shape[1]\n",
    "alpha = 1e-2\n",
    "w = np.array([1, 0.5])\n",
    "\n",
    "for i in range(1000):\n",
    "    y_pred = np.dot(w, X)\n",
    "    err = mserror(X, w, Y)\n",
    "    # for ii in range(w.shape[0]):\n",
    "    #     w[ii] -= alpha * (1/n * 2 * np.sum(X[ii] * (y_pred - Y)))\n",
    "    w -= (alpha * (1/n * 2 * np.sum(X * (y_pred - Y), axis=1)))\n",
    "    # w -= (alpha * (1/n * 2 * np.dot(X, (y_pred - Y))))\n",
    "    if i % 100 == 0:\n",
    "        print(i, w, err)"
   ]
  },
  {
   "cell_type": "code",
   "execution_count": 12,
   "metadata": {},
   "outputs": [
    {
     "name": "stdout",
     "output_type": "stream",
     "text": [
      "0 [ 0.9589608  -0.05795779] 27.52840793611699\n",
      "100 [-0.36237729 -0.36751535] 0.25819058685105856\n",
      "200 [-0.54051573 -0.36422332] 0.21524795671151542\n",
      "300 [-0.56464443 -0.36377742] 0.21446011079602265\n",
      "400 [-0.56791265 -0.36371702] 0.2144456566001679\n",
      "500 [-0.56835532 -0.36370884] 0.21444539141661653\n",
      "600 [-0.56841528 -0.36370773] 0.214445386551433\n",
      "700 [-0.5684234  -0.36370758] 0.21444538646217395\n",
      "800 [-0.5684245  -0.36370756] 0.21444538646053635\n",
      "900 [-0.56842465 -0.36370756] 0.21444538646050632\n"
     ]
    }
   ],
   "source": [
    "n = X.shape[1]\n",
    "alpha = 1e-2\n",
    "w = np.array([1, 0.5])\n",
    "\n",
    "for i in range(1000):\n",
    "    y_pred = np.dot(w, X)\n",
    "    err = mserror(X, w, Y)\n",
    "    # for ii in range(w.shape[0]):\n",
    "    #     w[ii] -= alpha * (1/n * 2 * np.sum(X[ii] * (y_pred - Y)))\n",
    "    # w -= (alpha * (1/n * 2 * np.sum(X * (y_pred - Y), axis=1)))\n",
    "    w -= (alpha * (1/n * 2 * np.dot(X, (y_pred - Y))))\n",
    "    if i % 100 == 0:\n",
    "        print(i, w, err)"
   ]
  }
 ],
 "metadata": {
  "kernelspec": {
   "display_name": "Python 3",
   "language": "python",
   "name": "python3"
  },
  "language_info": {
   "codemirror_mode": {
    "name": "ipython",
    "version": 3
   },
   "file_extension": ".py",
   "mimetype": "text/x-python",
   "name": "python",
   "nbconvert_exporter": "python",
   "pygments_lexer": "ipython3",
   "version": "3.8.0"
  }
 },
 "nbformat": 4,
 "nbformat_minor": 4
}

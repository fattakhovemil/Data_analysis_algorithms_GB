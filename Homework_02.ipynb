{
 "cells": [
  {
   "cell_type": "code",
   "execution_count": 1,
   "metadata": {},
   "outputs": [],
   "source": [
    "import numpy as np\n",
    "from sklearn import datasets \n",
    "import matplotlib.pyplot as plt\n",
    "\n",
    "%matplotlib inline"
   ]
  },
  {
   "cell_type": "markdown",
   "metadata": {},
   "source": [
    "1. Сгенерировать датасет при помощи sklearn.datasets.make_regression и обучить линейную модель при помощи градиентного и стохастического градиентного спуска. Нанести среднеквадратичную ошибку для обоих методов на один график, сделать выводы о разнице скорости сходимости каждого из методов."
   ]
  },
  {
   "cell_type": "code",
   "execution_count": 2,
   "metadata": {},
   "outputs": [],
   "source": [
    "# сгенерируем набор данных\n",
    "data, target, coef = datasets.make_regression(n_samples = 1000, n_features = 2, n_informative = 2, n_targets = 1,\n",
    "                                             noise = 5, coef = True, random_state = 2)"
   ]
  },
  {
   "cell_type": "code",
   "execution_count": 3,
   "metadata": {},
   "outputs": [],
   "source": [
    "# отмасштабируем получившиеся признаки методом стандартизации\n",
    "means = np.mean(data, axis=0)\n",
    "stds = np.std(data, axis=0)\n",
    "\n",
    "for i in range(data.shape[0]):\n",
    "    for j in range (data.shape[1]):\n",
    "        data[i][j] = (data[i][j] - means[j])/stds[j]"
   ]
  },
  {
   "cell_type": "code",
   "execution_count": 4,
   "metadata": {},
   "outputs": [],
   "source": [
    "# функция, для определения средневкадратичной ошибки\n",
    "def mserror(X, w, y_pred):\n",
    "    y = X.dot(w)\n",
    "    return (sum((y - y_pred)**2))/X.shape[0]"
   ]
  },
  {
   "cell_type": "code",
   "execution_count": 5,
   "metadata": {},
   "outputs": [],
   "source": [
    "# градиентный спуск\n",
    "def eval_gd_model(X, y, iterations, alpha=1e-2):\n",
    "    W_gd = np.random.randn(X.shape[1])\n",
    "    n_gd = X.shape[0]\n",
    "    w_list_gd = [W_gd.copy()]\n",
    "    errors_gd = []\n",
    "    for i in range(1, iterations+1):\n",
    "        y_pred = np.dot(X, W_gd)\n",
    "        err = mserror(X, W_gd, y)\n",
    "        W_gd -= alpha * (1/n_gd * 2 * np.dot(X.T, (y_pred - y)))\n",
    "        #if i % (iterations / 100) == 0:\n",
    "        #    print(i, W_gd, err)\n",
    "        w_list_gd.append(W_gd.copy())\n",
    "        errors_gd.append(err)\n",
    "    W_gd = np.array(W_gd)\n",
    "    w_list_gd = np.array(w_list_gd)\n",
    "    errors_gd = np.array(errors_gd)\n",
    "    return W_gd, errors_gd[-1], w_list_gd, errors_gd"
   ]
  },
  {
   "cell_type": "code",
   "execution_count": 6,
   "metadata": {},
   "outputs": [],
   "source": [
    "# стохастический градиентный спуск\n",
    "def eval_sgd_model(X, y, iterations, alpha=1e-2):\n",
    "    W_sgd = np.random.randn(X.shape[1])\n",
    "    w_list_sgd = [W_sgd.copy()]\n",
    "    errors_sgd = []\n",
    "    for i in range(1, iterations+1):\n",
    "        train_ind = np.random.randint(X.shape[0])\n",
    "        n_sgd = X[train_ind].shape[0]\n",
    "        y_pred_tmp = np.dot(W_sgd, X[train_ind])\n",
    "        err = mserror(X, W_sgd, y)\n",
    "        W_sgd -= alpha * (1/n_sgd * 2 * np.dot((y_pred_tmp - y[train_ind]), X[train_ind]))\n",
    "        #if i % (iterations / 1000) == 0:\n",
    "        #    print(i, W_sgd, err)\n",
    "        w_list_sgd.append(W_sgd.copy())\n",
    "        errors_sgd.append(err)\n",
    "    w_list_sgd = np.array(w_list_sgd)\n",
    "    errors_sgd = np.array(errors_sgd)\n",
    "    return W_sgd, w_list_sgd, errors_sgd"
   ]
  },
  {
   "cell_type": "code",
   "execution_count": 7,
   "metadata": {},
   "outputs": [
    {
     "data": {
      "text/plain": [
       "(array([61.43607084, 67.66544978]),\n",
       " 38.56825174585216,\n",
       " array([[ 1.28773551, -1.19281096],\n",
       "        [ 2.45743241,  0.15529276],\n",
       "        [ 3.60438672,  1.47699956],\n",
       "        ...,\n",
       "        [61.43607084, 67.66544978],\n",
       "        [61.43607084, 67.66544978],\n",
       "        [61.43607084, 67.66544978]]),\n",
       " array([8197.73817912, 7882.29011816, 7579.03798051, ...,   38.56825175,\n",
       "          38.56825175,   38.56825175]))"
      ]
     },
     "execution_count": 7,
     "metadata": {},
     "output_type": "execute_result"
    }
   ],
   "source": [
    "eval_gd_model(data, target, iterations = 10000, alpha = 1e-2)"
   ]
  },
  {
   "cell_type": "code",
   "execution_count": 8,
   "metadata": {},
   "outputs": [
    {
     "data": {
      "text/plain": [
       "(array([61.33930822, 67.04346083]),\n",
       " array([[-1.21890232e-01, -6.36293437e-02],\n",
       "        [-5.70222359e-02,  1.33491935e-01],\n",
       "        [-6.26406174e-02,  1.39875013e-01],\n",
       "        ...,\n",
       "        [ 6.13667502e+01,  6.70286892e+01],\n",
       "        [ 6.13551800e+01,  6.70393638e+01],\n",
       "        [ 6.13393082e+01,  6.70434608e+01]]),\n",
       " array([8213.73527209, 8179.88831537, 8179.71788191, ...,   38.96920346,\n",
       "          38.97638837,   38.96433175]))"
      ]
     },
     "execution_count": 8,
     "metadata": {},
     "output_type": "execute_result"
    }
   ],
   "source": [
    "eval_sgd_model(data, target, iterations = 10000, alpha = 1e-2)"
   ]
  },
  {
   "cell_type": "code",
   "execution_count": 9,
   "metadata": {},
   "outputs": [
    {
     "data": {
      "image/png": "[encoded data removed]",
      "text/plain": [
       "<Figure size 936x432 with 1 Axes>"
      ]
     },
     "metadata": {
      "needs_background": "light"
     },
     "output_type": "display_data"
    }
   ],
   "source": [
    "plt.figure(figsize=(13, 6))\n",
    "plt.title('Gradient descent')\n",
    "plt.xlabel(r'$w_1$')\n",
    "plt.ylabel(r'$w_2$')\n",
    "\n",
    "plt.scatter(eval_gd_model(data, target, iterations = 1000, alpha = 1e-2)[2][:, 0],\n",
    "            eval_gd_model(data, target, iterations = 1000, alpha = 1e-2)[2][:, 1], c='g')\n",
    "plt.scatter(eval_sgd_model(data, target, iterations = 1000, alpha = 1e-2)[1][:, 0], \n",
    "            eval_sgd_model(data, target, iterations = 1000, alpha = 1e-2)[1][:, 1], c='r')\n",
    "\n",
    "plt.show()"
   ]
  },
  {
   "cell_type": "code",
   "execution_count": 10,
   "metadata": {},
   "outputs": [
    {
     "data": {
      "text/plain": [
       "Text(0, 0.5, 'MSE')"
      ]
     },
     "execution_count": 10,
     "metadata": {},
     "output_type": "execute_result"
    },
    {
     "data": {
      "image/png": "[encoded data removed]",
      "text/plain": [
       "<Figure size 432x288 with 1 Axes>"
      ]
     },
     "metadata": {
      "needs_background": "light"
     },
     "output_type": "display_data"
    }
   ],
   "source": [
    "plt.plot(range(len(eval_gd_model(data, target, iterations = 1000, alpha = 1e-2)[3])),\n",
    "         eval_gd_model(data, target, iterations = 1000, alpha = 1e-2)[3], c='g')\n",
    "plt.plot(range(len(eval_sgd_model(data, target, iterations = 1000, alpha = 1e-2)[2])), \n",
    "         eval_sgd_model(data, target, iterations = 1000, alpha = 1e-2)[2], c='r')\n",
    "plt.title('MSE')\n",
    "plt.xlabel('Iteration number')\n",
    "plt.ylabel('MSE')"
   ]
  },
  {
   "cell_type": "markdown",
   "metadata": {},
   "source": [
    "Несмотря на то, что стохастический градиентный спуск сходится медленней обычного, за счет большого увеличения числа итераций получается улучшить скорость сходимости на единицу времени. Из графика видно, что уменьшение ошибки при стохастическом градиентном спуске происходит ступенчато, так как причиной служит вероятность увеличения ошибки на другом объекте на каждой итерации."
   ]
  },
  {
   "cell_type": "markdown",
   "metadata": {},
   "source": [
    "2. Модифицировать решение первого задания путем добавления 𝐿2 -регуляризации и сравнить результаты."
   ]
  },
  {
   "cell_type": "code",
   "execution_count": 11,
   "metadata": {},
   "outputs": [],
   "source": [
    "def eval_gd_model_reg2(X, y, iterations, alpha=1e-2, lambda_=1e-8):\n",
    "    W_gd = np.random.randn(X.shape[1])\n",
    "    n_gd = X.shape[0]\n",
    "    w_list_gd = [W_gd.copy()]\n",
    "    errors_gd = []\n",
    "    for i in range(1, iterations+1):\n",
    "        y_pred = np.dot(X, W_gd)\n",
    "        err = mserror(X, W_gd, y)\n",
    "        W_gd -= alpha * (1/n_gd * 2 * np.dot(X.T, (y_pred - y)) + lambda_ * W_gd)\n",
    "        #if i % (iterations / 100) == 0:\n",
    "        #    print(i, W_gd, err)\n",
    "        w_list_gd.append(W_gd.copy())\n",
    "        errors_gd.append(err)\n",
    "    w_list_gd = np.array(w_list_gd)\n",
    "    return W_gd, errors_gd[-1], w_list_gd"
   ]
  },
  {
   "cell_type": "code",
   "execution_count": 12,
   "metadata": {},
   "outputs": [
    {
     "data": {
      "text/plain": [
       "(array([60.2053965 , 66.34676042]), 41.87100972895085)"
      ]
     },
     "execution_count": 12,
     "metadata": {},
     "output_type": "execute_result"
    }
   ],
   "source": [
    "eval_gd_model(data, target, iterations = 200, alpha = 1e-2)[0:2]"
   ]
  },
  {
   "cell_type": "code",
   "execution_count": 13,
   "metadata": {},
   "outputs": [
    {
     "data": {
      "text/plain": [
       "(array([59.95503476, 66.05807122]),\n",
       " 43.378338772268776,\n",
       " array([[ 0.30471318,  0.35048553],\n",
       "        [ 1.49478572,  1.66721332],\n",
       "        [ 2.66157399,  2.95804987],\n",
       "        [ 3.8055335 ,  4.22350436],\n",
       "        [ 4.92711085,  5.46407593],\n",
       "        [ 6.02674389,  6.68025392],\n",
       "        [ 7.10486192,  7.87251804],\n",
       "        [ 8.16188584,  9.04133855],\n",
       "        [ 9.1982283 , 10.18717649],\n",
       "        [10.21429391, 11.31048381],\n",
       "        [11.21047935, 12.41170357],\n",
       "        [12.18717353, 13.49127014],\n",
       "        [13.14475776, 14.54960933],\n",
       "        [14.0836059 , 15.58713857],\n",
       "        [15.00408448, 16.60426709],\n",
       "        [15.90655289, 17.60139606],\n",
       "        [16.79136346, 18.57891878],\n",
       "        [17.65886164, 19.53722081],\n",
       "        [18.50938613, 20.47668011],\n",
       "        [19.34326898, 21.39766722],\n",
       "        [20.16083578, 22.30054539],\n",
       "        [20.96240572, 23.18567072],\n",
       "        [21.74829176, 24.05339233],\n",
       "        [22.51880075, 24.90405245],\n",
       "        [23.27423352, 25.73798658],\n",
       "        [24.01488501, 26.55552363],\n",
       "        [24.74104442, 27.35698604],\n",
       "        [25.45299525, 28.14268991],\n",
       "        [26.1510155 , 28.91294512],\n",
       "        [26.8353777 , 29.66805546],\n",
       "        [27.50634907, 30.40831874],\n",
       "        [28.16419157, 31.13402692],\n",
       "        [28.80916208, 31.84546621],\n",
       "        [29.44151242, 32.5429172 ],\n",
       "        [30.06148951, 33.22665495],\n",
       "        [30.66933541, 33.89694912],\n",
       "        [31.26528747, 34.55406407],\n",
       "        [31.84957839, 35.19825895],\n",
       "        [32.42243631, 35.82978782],\n",
       "        [32.98408492, 36.44889974],\n",
       "        [33.53474353, 37.05583889],\n",
       "        [34.07462714, 37.65084461],\n",
       "        [34.60394659, 38.23415157],\n",
       "        [35.12290854, 38.80598981],\n",
       "        [35.63171565, 39.36658485],\n",
       "        [36.1305666 , 39.91615776],\n",
       "        [36.61965618, 40.45492528],\n",
       "        [37.09917537, 40.98309989],\n",
       "        [37.56931142, 41.50088987],\n",
       "        [38.03024791, 42.00849943],\n",
       "        [38.48216483, 42.50612874],\n",
       "        [38.92523867, 42.99397405],\n",
       "        [39.35964242, 43.47222775],\n",
       "        [39.78554574, 43.94107844],\n",
       "        [40.20311493, 44.40071101],\n",
       "        [40.61251306, 44.85130672],\n",
       "        [41.0139    , 45.29304327],\n",
       "        [41.40743249, 45.72609484],\n",
       "        [41.79326422, 46.15063222],\n",
       "        [42.17154584, 46.56682281],\n",
       "        [42.5424251 , 46.97483075],\n",
       "        [42.90604681, 47.37481693],\n",
       "        [43.26255299, 47.76693907],\n",
       "        [43.61208285, 48.1513518 ],\n",
       "        [43.9547729 , 48.52820672],\n",
       "        [44.29075696, 48.89765243],\n",
       "        [44.62016625, 49.25983462],\n",
       "        [44.9431294 , 49.61489611],\n",
       "        [45.25977254, 49.9629769 ],\n",
       "        [45.57021933, 50.30421426],\n",
       "        [45.87459102, 50.63874274],\n",
       "        [46.17300647, 50.96669427],\n",
       "        [46.46558223, 51.28819815],\n",
       "        [46.75243255, 51.60338117],\n",
       "        [47.03366946, 51.9123676 ],\n",
       "        [47.3094028 , 52.21527929],\n",
       "        [47.57974026, 52.51223568],\n",
       "        [47.84478742, 52.80335386],\n",
       "        [48.10464778, 53.08874863],\n",
       "        [48.35942285, 53.36853251],\n",
       "        [48.60921211, 53.64281584],\n",
       "        [48.85411314, 53.91170677],\n",
       "        [49.09422157, 54.17531131],\n",
       "        [49.32963119, 54.43373342],\n",
       "        [49.56043393, 54.68707498],\n",
       "        [49.78671995, 54.93543589],\n",
       "        [50.00857761, 55.17891408],\n",
       "        [50.22609358, 55.41760555],\n",
       "        [50.4393528 , 55.65160442],\n",
       "        [50.64843857, 55.88100295],\n",
       "        [50.85343256, 56.1058916 ],\n",
       "        [51.05441482, 56.32635903],\n",
       "        [51.25146386, 56.54249217],\n",
       "        [51.44465664, 56.75437624],\n",
       "        [51.63406863, 56.96209478],\n",
       "        [51.81977379, 57.1657297 ],\n",
       "        [52.00184467, 57.36536128],\n",
       "        [52.18035238, 57.56106824],\n",
       "        [52.35536665, 57.75292774],\n",
       "        [52.52695582, 57.94101542],\n",
       "        [52.69518693, 58.12540544],\n",
       "        [52.86012569, 58.30617051],\n",
       "        [53.02183652, 58.48338189],\n",
       "        [53.18038258, 58.65710946],\n",
       "        [53.3358258 , 58.82742171],\n",
       "        [53.4882269 , 58.99438578],\n",
       "        [53.63764542, 59.15806751],\n",
       "        [53.7841397 , 59.31853143],\n",
       "        [53.92776698, 59.47584081],\n",
       "        [54.06858336, 59.63005767],\n",
       "        [54.20664384, 59.7812428 ],\n",
       "        [54.34200236, 59.92945582],\n",
       "        [54.47471177, 60.07475516],\n",
       "        [54.60482394, 60.2171981 ],\n",
       "        [54.73238967, 60.3568408 ],\n",
       "        [54.8574588 , 60.49373832],\n",
       "        [54.98008018, 60.62794463],\n",
       "        [55.10030172, 60.75951264],\n",
       "        [55.21817037, 60.88849422],\n",
       "        [55.33373219, 61.01494021],\n",
       "        [55.4470323 , 61.13890048],\n",
       "        [55.55811498, 61.26042389],\n",
       "        [55.66702361, 61.37955835],\n",
       "        [55.77380073, 61.49635083],\n",
       "        [55.87848807, 61.61084737],\n",
       "        [55.98112651, 61.72309311],\n",
       "        [56.08175616, 61.83313231],\n",
       "        [56.18041631, 61.94100833],\n",
       "        [56.27714552, 62.04676372],\n",
       "        [56.37198156, 62.15044016],\n",
       "        [56.4649615 , 62.25207852],\n",
       "        [56.55612164, 62.35171888],\n",
       "        [56.64549761, 62.44940051],\n",
       "        [56.73312432, 62.54516192],\n",
       "        [56.819036  , 62.63904087],\n",
       "        [56.90326622, 62.73107436],\n",
       "        [56.98584787, 62.82129868],\n",
       "        [57.06681323, 62.90974938],\n",
       "        [57.14619392, 62.99646135],\n",
       "        [57.22402095, 63.08146876],\n",
       "        [57.30032473, 63.16480512],\n",
       "        [57.37513508, 63.24650329],\n",
       "        [57.4484812 , 63.32659547],\n",
       "        [57.52039177, 63.40511324],\n",
       "        [57.59089487, 63.48208755],\n",
       "        [57.66001805, 63.55754873],\n",
       "        [57.72778832, 63.63152655],\n",
       "        [57.79423215, 63.70405015],\n",
       "        [57.85937549, 63.77514814],\n",
       "        [57.92324381, 63.84484852],\n",
       "        [57.98586205, 63.91317879],\n",
       "        [58.04725468, 63.98016588],\n",
       "        [58.10744568, 64.04583619],\n",
       "        [58.16645857, 64.11021561],\n",
       "        [58.22431641, 64.17332951],\n",
       "        [58.2810418 , 64.23520278],\n",
       "        [58.33665691, 64.2958598 ],\n",
       "        [58.39118346, 64.35532449],\n",
       "        [58.44464275, 64.41362029],\n",
       "        [58.49705569, 64.47077017],\n",
       "        [58.54844273, 64.52679665],\n",
       "        [58.59882396, 64.58172184],\n",
       "        [58.64821907, 64.63556737],\n",
       "        [58.69664736, 64.68835447],\n",
       "        [58.74412774, 64.74010396],\n",
       "        [58.79067877, 64.79083621],\n",
       "        [58.83631863, 64.84057124],\n",
       "        [58.88106517, 64.88932865],\n",
       "        [58.92493585, 64.93712765],\n",
       "        [58.96794783, 64.98398709],\n",
       "        [59.01011791, 65.02992544],\n",
       "        [59.05146257, 65.0749608 ],\n",
       "        [59.09199796, 65.11911093],\n",
       "        [59.13173992, 65.16239323],\n",
       "        [59.17070398, 65.20482475],\n",
       "        [59.20890536, 65.24642222],\n",
       "        [59.24635899, 65.28720205],\n",
       "        [59.28307951, 65.32718029],\n",
       "        [59.31908126, 65.36637272],\n",
       "        [59.35437831, 65.40479477],\n",
       "        [59.38898446, 65.44246159],\n",
       "        [59.42291322, 65.47938803],\n",
       "        [59.45617786, 65.51558864],\n",
       "        [59.48879136, 65.55107769],\n",
       "        [59.52076649, 65.58586917],\n",
       "        [59.55211572, 65.61997679],\n",
       "        [59.58285131, 65.65341399],\n",
       "        [59.61298527, 65.68619396],\n",
       "        [59.64252938, 65.71832961],\n",
       "        [59.67149518, 65.7498336 ],\n",
       "        [59.69989399, 65.78071837],\n",
       "        [59.7277369 , 65.81099606],\n",
       "        [59.7550348 , 65.84067863],\n",
       "        [59.78179836, 65.86977777],\n",
       "        [59.80803802, 65.89830495],\n",
       "        [59.83376405, 65.92627141],\n",
       "        [59.85898651, 65.95368818],\n",
       "        [59.88371523, 65.98056605],\n",
       "        [59.9079599 , 66.00691562],\n",
       "        [59.93172998, 66.03274729],\n",
       "        [59.95503476, 66.05807122]]))"
      ]
     },
     "execution_count": 13,
     "metadata": {},
     "output_type": "execute_result"
    }
   ],
   "source": [
    "eval_gd_model_reg2(data, target, iterations = 200, alpha = 1e-2, lambda_=1e-2)"
   ]
  },
  {
   "cell_type": "markdown",
   "metadata": {},
   "source": [
    "L2-регуляризация позволяет \"упростить\" модель обучения при значительных значениях lambda, тем самым уменьшить зависимость модели от весов. Но в то же время, в итоге ошибка MSE увеличивается."
   ]
  },
  {
   "cell_type": "markdown",
   "metadata": {},
   "source": [
    "3 [опция]. Модернизировать решение задания 2, заменив L2 регуляризацию на L1 регуляризацию."
   ]
  },
  {
   "cell_type": "code",
   "execution_count": 14,
   "metadata": {},
   "outputs": [],
   "source": [
    "def eval_gd_model_reg1(X, y, iterations, alpha=1e-2, lambda_=1e-2):\n",
    "    W_gd = np.random.randn(X.shape[1])\n",
    "    n_gd = X.shape[0]\n",
    "    w_list_gd = [W_gd.copy()]\n",
    "    errors_gd = []\n",
    "    for i in range(1, iterations+1):\n",
    "        y_pred = np.dot(X, W_gd)\n",
    "        err = mserror(X, W_gd, y)\n",
    "        W_gd -= alpha * (1/n_gd * 2 * np.dot(X.T, (y_pred - y)) + lambda_ / 2 * (W_gd / np.abs(W_gd)))\n",
    "        #if i % (iterations / 100) == 0:\n",
    "        #    print(i, W_gd, err)\n",
    "        w_list_gd.append(W_gd.copy())\n",
    "        errors_gd.append(err)\n",
    "    w_list_gd = np.array(w_list_gd)\n",
    "    return W_gd, errors_gd[-1], w_list_gd"
   ]
  },
  {
   "cell_type": "code",
   "execution_count": 15,
   "metadata": {},
   "outputs": [
    {
     "data": {
      "text/plain": [
       "(array([60.22073872, 66.34531375]),\n",
       " 41.836619203989564,\n",
       " array([[-0.4594048 , -0.80655016],\n",
       "        [ 0.74547153,  0.53303419],\n",
       "        [ 1.92679757,  1.84630901],\n",
       "        [ 3.08513162,  3.1338891 ],\n",
       "        [ 4.22092109,  4.39627726],\n",
       "        [ 5.33460472,  5.63396643],\n",
       "        [ 6.42661268,  6.8474399 ],\n",
       "        [ 7.49736679,  8.03717152],\n",
       "        [ 8.54728065,  9.20362586],\n",
       "        [ 9.57675982, 10.3472584 ],\n",
       "        [10.58620197, 11.46851569],\n",
       "        [11.57599703, 12.56783556],\n",
       "        [12.54652733, 13.64564726],\n",
       "        [13.4981678 , 14.70237166],\n",
       "        [14.43128602, 15.73842137],\n",
       "        [15.34624246, 16.75420093],\n",
       "        [16.24339056, 17.75010697],\n",
       "        [17.12307688, 18.72652837],\n",
       "        [17.98564125, 19.68384636],\n",
       "        [18.83141687, 20.62243476],\n",
       "        [19.66073047, 21.54266004],\n",
       "        [20.47390242, 22.4448815 ],\n",
       "        [21.27124685, 23.32945144],\n",
       "        [22.05307179, 24.19671522],\n",
       "        [22.81967925, 25.04701147],\n",
       "        [23.5713654 , 25.8806722 ],\n",
       "        [24.30842062, 26.6980229 ],\n",
       "        [25.03112965, 27.4993827 ],\n",
       "        [25.73977169, 28.2850645 ],\n",
       "        [26.4346205 , 29.05537505],\n",
       "        [27.11594452, 29.81061511],\n",
       "        [27.78400696, 30.55107956],\n",
       "        [28.43906592, 31.27705751],\n",
       "        [29.08137447, 31.9888324 ],\n",
       "        [29.71118075, 32.68668213],\n",
       "        [30.32872808, 33.37087917],\n",
       "        [30.93425504, 34.04169064],\n",
       "        [31.52799558, 34.69937846],\n",
       "        [32.11017908, 35.34419939],\n",
       "        [32.68103045, 35.97640519],\n",
       "        [33.24077027, 36.59624269],\n",
       "        [33.78961476, 37.20395388],\n",
       "        [34.327776  , 37.79977604],\n",
       "        [34.85546188, 38.38394177],\n",
       "        [35.3728763 , 38.95667914],\n",
       "        [35.88021915, 39.51821176],\n",
       "        [36.37768646, 40.06875886],\n",
       "        [36.86547043, 40.60853538],\n",
       "        [37.34375952, 41.13775204],\n",
       "        [37.81273853, 41.65661547],\n",
       "        [38.27258865, 42.16532822],\n",
       "        [38.72348756, 42.66408889],\n",
       "        [39.16560947, 43.15309222],\n",
       "        [39.59912522, 43.63252909],\n",
       "        [40.0242023 , 44.10258668],\n",
       "        [40.44100495, 44.56344851],\n",
       "        [40.84969422, 45.01529448],\n",
       "        [41.25042801, 45.45830099],\n",
       "        [41.64336118, 45.892641  ],\n",
       "        [42.02864554, 46.31848406],\n",
       "        [42.40642997, 46.73599641],\n",
       "        [42.77686044, 47.14534104],\n",
       "        [43.14008007, 47.54667776],\n",
       "        [43.49622923, 47.94016324],\n",
       "        [43.84544552, 48.32595109],\n",
       "        [44.18786388, 48.70419192],\n",
       "        [44.52361663, 49.07503337],\n",
       "        [44.8528335 , 49.43862021],\n",
       "        [45.1756417 , 49.79509438],\n",
       "        [45.49216598, 50.14459504],\n",
       "        [45.80252863, 50.48725862],\n",
       "        [46.1068496 , 50.82321888],\n",
       "        [46.40524647, 51.15260698],\n",
       "        [46.69783455, 51.47555148],\n",
       "        [46.9847269 , 51.79217847],\n",
       "        [47.26603439, 52.10261153],\n",
       "        [47.54186572, 52.40697185],\n",
       "        [47.81232748, 52.70537823],\n",
       "        [48.07752419, 52.99794716],\n",
       "        [48.33755831, 53.28479285],\n",
       "        [48.59253035, 53.56602726],\n",
       "        [48.84253883, 53.84176018],\n",
       "        [49.08768037, 54.11209923],\n",
       "        [49.32804969, 54.37714995],\n",
       "        [49.56373969, 54.63701579],\n",
       "        [49.79484145, 54.89179819],\n",
       "        [50.02144427, 55.1415966 ],\n",
       "        [50.24363573, 55.38650853],\n",
       "        [50.46150169, 55.62662958],\n",
       "        [50.67512635, 55.86205347],\n",
       "        [50.88459227, 56.0928721 ],\n",
       "        [51.08998039, 56.31917556],\n",
       "        [51.29137009, 56.54105219],\n",
       "        [51.4888392 , 56.75858859],\n",
       "        [51.68246404, 56.97186967],\n",
       "        [51.87231942, 57.18097868],\n",
       "        [52.05847873, 57.38599725],\n",
       "        [52.24101392, 57.58700539],\n",
       "        [52.41999552, 57.78408156],\n",
       "        [52.59549271, 57.97730268],\n",
       "        [52.76757331, 58.16674418],\n",
       "        [52.93630383, 58.35247999],\n",
       "        [53.10174948, 58.5345826 ],\n",
       "        [53.2639742 , 58.7131231 ],\n",
       "        [53.4230407 , 58.88817118],\n",
       "        [53.57901044, 59.05979514],\n",
       "        [53.7319437 , 59.22806199],\n",
       "        [53.88189961, 59.39303739],\n",
       "        [54.0289361 , 59.55478574],\n",
       "        [54.17311002, 59.71337016],\n",
       "        [54.31447708, 59.86885255],\n",
       "        [54.45309192, 60.0212936 ],\n",
       "        [54.58900812, 60.1707528 ],\n",
       "        [54.72227821, 60.31728849],\n",
       "        [54.8529537 , 60.46095785],\n",
       "        [54.98108509, 60.60181697],\n",
       "        [55.10672191, 60.73992081],\n",
       "        [55.22991273, 60.87532328],\n",
       "        [55.35070515, 61.00807722],\n",
       "        [55.46914586, 61.13823444],\n",
       "        [55.58528065, 61.26584575],\n",
       "        [55.69915439, 61.39096094],\n",
       "        [55.81081112, 61.51362884],\n",
       "        [55.92029398, 61.63389734],\n",
       "        [56.02764529, 61.75181337],\n",
       "        [56.13290654, 61.86742294],\n",
       "        [56.23611843, 61.98077118],\n",
       "        [56.33732085, 62.09190232],\n",
       "        [56.43655291, 62.20085974],\n",
       "        [56.53385298, 62.30768596],\n",
       "        [56.62925866, 62.41242266],\n",
       "        [56.72280683, 62.51511073],\n",
       "        [56.81453366, 62.61579023],\n",
       "        [56.90447459, 62.71450046],\n",
       "        [56.99266439, 62.81127994],\n",
       "        [57.07913716, 62.90616645],\n",
       "        [57.16392632, 62.999197  ],\n",
       "        [57.24706465, 63.09040791],\n",
       "        [57.32858428, 63.17983477],\n",
       "        [57.40851672, 63.26751249],\n",
       "        [57.48689288, 63.35347526],\n",
       "        [57.56374305, 63.43775665],\n",
       "        [57.63909694, 63.52038955],\n",
       "        [57.71298368, 63.60140619],\n",
       "        [57.78543182, 63.6808382 ],\n",
       "        [57.85646938, 63.75871658],\n",
       "        [57.92612382, 63.83507171],\n",
       "        [57.99442206, 63.90993339],\n",
       "        [58.06139051, 63.98333084],\n",
       "        [58.12705505, 64.0552927 ],\n",
       "        [58.19144107, 64.12584704],\n",
       "        [58.25457345, 64.19502141],\n",
       "        [58.31647662, 64.26284279],\n",
       "        [58.37717448, 64.32933766],\n",
       "        [58.43669052, 64.39453195],\n",
       "        [58.49504774, 64.45845112],\n",
       "        [58.5522687 , 64.52112009],\n",
       "        [58.60837551, 64.58256334],\n",
       "        [58.66338988, 64.64280483],\n",
       "        [58.71733307, 64.70186807],\n",
       "        [58.77022593, 64.75977611],\n",
       "        [58.82208891, 64.81655154],\n",
       "        [58.87294207, 64.87221652],\n",
       "        [58.92280505, 64.92679278],\n",
       "        [58.97169715, 64.9803016 ],\n",
       "        [59.01963726, 65.03276387],\n",
       "        [59.06664391, 65.08420005],\n",
       "        [59.11273528, 65.13463023],\n",
       "        [59.15792919, 65.18407407],\n",
       "        [59.20224311, 65.23255086],\n",
       "        [59.24569418, 65.28007954],\n",
       "        [59.28829919, 65.32667863],\n",
       "        [59.33007461, 65.37236633],\n",
       "        [59.3710366 , 65.41716046],\n",
       "        [59.411201  , 65.46107849],\n",
       "        [59.45058332, 65.50413758],\n",
       "        [59.4891988 , 65.5463545 ],\n",
       "        [59.52706237, 65.58774575],\n",
       "        [59.56418867, 65.62832747],\n",
       "        [59.60059205, 65.66811549],\n",
       "        [59.63628659, 65.70712534],\n",
       "        [59.67128608, 65.74537224],\n",
       "        [59.70560407, 65.78287111],\n",
       "        [59.73925381, 65.81963658],\n",
       "        [59.77224832, 65.85568301],\n",
       "        [59.80460036, 65.89102444],\n",
       "        [59.83632243, 65.92567468],\n",
       "        [59.8674268 , 65.95964724],\n",
       "        [59.8979255 , 65.99295538],\n",
       "        [59.92783032, 66.02561209],\n",
       "        [59.95715282, 66.05763012],\n",
       "        [59.98590434, 66.08902195],\n",
       "        [60.01409599, 66.11979984],\n",
       "        [60.04173869, 66.1499758 ],\n",
       "        [60.06884311, 66.17956158],\n",
       "        [60.09541974, 66.20856875],\n",
       "        [60.12147885, 66.23700862],\n",
       "        [60.14703052, 66.26489228],\n",
       "        [60.17208462, 66.29223061],\n",
       "        [60.19665086, 66.31903428],\n",
       "        [60.22073872, 66.34531375]]))"
      ]
     },
     "execution_count": 15,
     "metadata": {},
     "output_type": "execute_result"
    }
   ],
   "source": [
    "eval_gd_model_reg1(data, target, iterations = 200, alpha = 1e-2, lambda_=1e-2)"
   ]
  },
  {
   "cell_type": "code",
   "execution_count": 16,
   "metadata": {},
   "outputs": [
    {
     "data": {
      "image/png": "[encoded data removed]",
      "text/plain": [
       "<Figure size 1080x720 with 1 Axes>"
      ]
     },
     "metadata": {
      "needs_background": "light"
     },
     "output_type": "display_data"
    }
   ],
   "source": [
    "plt.figure(figsize=(15, 10))\n",
    "plt.title('Gradient descent')\n",
    "plt.xlabel(r'$w_1$')\n",
    "plt.ylabel(r'$w_2$')\n",
    "\n",
    "plt.scatter(eval_gd_model(data, target, iterations = 200, alpha = 1e-2)[2][:, 0],\n",
    "            eval_gd_model(data, target, iterations = 200, alpha = 1e-2)[2][:, 1], c='g')\n",
    "plt.scatter(eval_gd_model_reg2(data, target, iterations = 200, alpha = 1e-2, lambda_=1e-2)[2][:, 0], \n",
    "            eval_gd_model_reg2(data, target, iterations = 200, alpha = 1e-2, lambda_=1e-2)[2][:, 1], c='b')\n",
    "plt.scatter(eval_gd_model_reg1(data, target, iterations = 200, alpha = 1e-2, lambda_=1e-2)[2][:, 0], \n",
    "            eval_gd_model_reg1(data, target, iterations = 200, alpha = 1e-2, lambda_=1e-2)[2][:, 1], c='k')\n",
    "\n",
    "plt.show()"
   ]
  }
 ],
 "metadata": {
  "kernelspec": {
   "display_name": "Python 3",
   "language": "python",
   "name": "python3"
  },
  "language_info": {
   "codemirror_mode": {
    "name": "ipython",
    "version": 3
   },
   "file_extension": ".py",
   "mimetype": "text/x-python",
   "name": "python",
   "nbconvert_exporter": "python",
   "pygments_lexer": "ipython3",
   "version": "3.8.0"
  }
 },
 "nbformat": 4,
 "nbformat_minor": 4
}
